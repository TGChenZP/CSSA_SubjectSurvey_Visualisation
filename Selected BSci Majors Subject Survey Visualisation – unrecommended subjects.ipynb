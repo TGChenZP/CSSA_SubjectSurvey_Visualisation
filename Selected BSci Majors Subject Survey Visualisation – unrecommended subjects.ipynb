{
 "cells": [
  {
   "cell_type": "markdown",
   "id": "2f47f120-e84e-4ebc-98a8-c4bd0804acab",
   "metadata": {},
   "source": [
    "# Selected BSci Majors Subject Survey Visualisation – unrecommended subjects"
   ]
  },
  {
   "cell_type": "code",
   "execution_count": 1,
   "id": "487df291-828a-4e63-9a52-176c1594ca67",
   "metadata": {},
   "outputs": [],
   "source": [
    "## Import libraries\n",
    "\n",
    "\n",
    "import pandas as pd\n",
    "import numpy as np\n",
    "from collections import defaultdict as dd\n",
    "import re\n",
    "import matplotlib.pyplot as plt"
   ]
  },
  {
   "cell_type": "code",
   "execution_count": 2,
   "id": "37c8892d-4d8e-4ec6-a8c0-893395e8271d",
   "metadata": {},
   "outputs": [
    {
     "name": "stdout",
     "output_type": "stream",
     "text": [
      "Full Data: 19\n",
      "DS: 6\n",
      "CS: 11\n",
      "Male: 8\n",
      "Female: 11\n"
     ]
    }
   ],
   "source": [
    "## Import data and preprocess data, also printing out its length\n",
    "\n",
    "\n",
    "data = pd.read_csv('本科.csv')\n",
    "print('Full Data:', len(data))\n",
    "\n",
    "# Prepare projection (subset) of data from full dataset\n",
    "DS = data[data['3.你的专业是'] == 'A.DS']\n",
    "DS.index = range(len(DS))\n",
    "print('DS:', len(DS))\n",
    "\n",
    "CS = data[data['3.你的专业是'] == 'B.CS']\n",
    "CS.index = range(len(CS))\n",
    "print('CS:', len(CS))\n",
    "\n",
    "Male = data[data['1.你的性别'] == 'A.男']\n",
    "Male.index = range(len(Male))\n",
    "print('Male:', len(Male))\n",
    "\n",
    "Female = data[data['1.你的性别'] == 'B.女']\n",
    "Female.index = range(len(Female))\n",
    "print('Female:', len(Female))"
   ]
  },
  {
   "cell_type": "markdown",
   "id": "9d1a9fc9-3b82-485e-bf79-62c9dc19694d",
   "metadata": {},
   "source": [
    "### Central Control to generate appropriate graphs"
   ]
  },
  {
   "cell_type": "code",
   "execution_count": 3,
   "id": "bba33d3e-ecee-4d5b-a5d7-e51d7b79d364",
   "metadata": {},
   "outputs": [],
   "source": [
    "# CHOICE = [data, '(DS/CS/MAST)', 'All']\n",
    "CHOICE = [DS, '(DS)', 'DS']\n",
    "# CHOICE = [CS, '(CS)', 'CS']\n",
    "# CHOICE = [Male, '(Male)', 'Male']\n",
    "# CHOICE = [Female, '(Female)', 'Female']"
   ]
  },
  {
   "cell_type": "markdown",
   "id": "2866d29f-ab84-4bcd-8e92-575f42061604",
   "metadata": {},
   "source": [
    "### Recommended Subjects"
   ]
  },
  {
   "cell_type": "code",
   "execution_count": 4,
   "id": "322ecbb0-1d2c-410f-874c-b46442979c97",
   "metadata": {},
   "outputs": [],
   "source": [
    "def collect_recommend(data):\n",
    "    \"\"\" Helper function to tally up appearences of each recommended subject into a dictionary.\n",
    "    Also creates a tally 'score' that is later unused (i.e. first choice recommend gets 3 votes) \"\"\"\n",
    "    \n",
    "    recommend = dict()\n",
    "    score = dict()\n",
    "    \n",
    "    for col in data.columns: # initialise the tally \n",
    "        if '00' in col: # select relevent columns only - cleverly uses feature of Unimelb subject code's XXXXn00nn structrure\n",
    "            subject = col.split(':')[1].split()[0]\n",
    "\n",
    "            recommend[subject] = 0\n",
    "            score[subject] = 0\n",
    "\n",
    "\n",
    "    for i in range(len(data)):\n",
    "        if type(data['8.请按推荐程度给这三门必修课排序'][i]) == str:\n",
    "            if '，' in data['8.请按推荐程度给这三门必修课排序'][i]: # seperates the subject codes\n",
    "                votes = data['8.请按推荐程度给这三门必修课排序'][i].split('，')\n",
    "            else:\n",
    "                votes = data['8.请按推荐程度给这三门必修课排序'][i].split(' ')\n",
    "\n",
    "\n",
    "            for i in range(len(votes)): # puts it into dictionary\n",
    "                recommend[votes[i].strip()] += 1\n",
    "                score[votes[i].strip()] += 3-i\n",
    "\n",
    "    return recommend, score"
   ]
  },
  {
   "cell_type": "markdown",
   "id": "d7581770-cf9a-492c-bcca-ff84931db1be",
   "metadata": {},
   "source": [
    "### Not Recommended Switches"
   ]
  },
  {
   "cell_type": "code",
   "execution_count": 5,
   "id": "c1b07b41-76c0-4cd2-bac2-4d8b7ca60f71",
   "metadata": {},
   "outputs": [],
   "source": [
    "def collect_not_recommend(data, recommend):\n",
    "    \"\"\" Collects the unrecommended subjects, splitting them into core/noncore \"\"\"\n",
    "    \n",
    "    # Becuase unrecommended incorporated both BSci and Breadth, and the author only wanted BSci subjects,\n",
    "    # BSCI subject code shorthands were hardcoded in\n",
    "    BSCI = ['COMP', 'INFO', 'MAST', 'PHYC', 'ENGR']\n",
    "\n",
    "    not_rec_core = dict()\n",
    "    not_rec_noncore = dict()\n",
    "    \n",
    "    # Initialise\n",
    "    for subject in recommend.keys():\n",
    "        not_rec_core[subject] = 0\n",
    "\n",
    "    extract = list()\n",
    "    \n",
    "    # extract the course codes using regex\n",
    "    for i in range(len(data)):\n",
    "        tmp = re.findall(r'[A-Z]{4}\\d{5}', data['21.直至目前的学习中，请写出两个最踩雷的课程并对他们进行排序'][i])\n",
    "\n",
    "        for item in tmp:\n",
    "            extract.append(item)\n",
    "    \n",
    "    # add the observations into the two tallies according to core/noncore status\n",
    "    for subject in extract:\n",
    "        if subject in not_rec_core:\n",
    "            not_rec_core[subject] += 1\n",
    "\n",
    "        elif subject[0:4] in BSCI:\n",
    "            if subject in not_rec_noncore:\n",
    "                not_rec_noncore[subject] += 1\n",
    "\n",
    "            else:\n",
    "                not_rec_noncore[subject] = 1\n",
    "\n",
    "    return not_rec_core, not_rec_noncore"
   ]
  },
  {
   "cell_type": "markdown",
   "id": "80f5f1ac-abb6-4261-ba37-06fedc9f7aef",
   "metadata": {},
   "source": [
    "### Main"
   ]
  },
  {
   "cell_type": "code",
   "execution_count": 6,
   "id": "76319d23-cc89-4719-89ec-43a194890ce3",
   "metadata": {},
   "outputs": [],
   "source": [
    "# Process data for recommended Subjects\n",
    "recommend, score = collect_recommend(CHOICE[0])"
   ]
  },
  {
   "cell_type": "code",
   "execution_count": 7,
   "id": "337927e5-cb57-47f7-b09e-17fd8e7139f8",
   "metadata": {},
   "outputs": [],
   "source": [
    "# Process data for unrecommended Subjects\n",
    "not_rec_core, not_rec_noncore = collect_not_recommend(CHOICE[0], recommend)"
   ]
  },
  {
   "cell_type": "code",
   "execution_count": 8,
   "id": "74d19e78-0c7e-43a0-88d8-21e1c290098e",
   "metadata": {},
   "outputs": [],
   "source": [
    "# collates tally of 'recommend' for each of the subjects that appear in 'not recommend' - for final graph\n",
    "\n",
    "rec_compare = dict()\n",
    "for key in not_rec_core:\n",
    "    if not_rec_core[key]:\n",
    "        rec_compare[key] = recommend[key]"
   ]
  },
  {
   "cell_type": "code",
   "execution_count": 9,
   "id": "36331f5f-5154-4d4e-b7e5-7aa1586c9e50",
   "metadata": {},
   "outputs": [],
   "source": [
    "# Prepares data for graph 1 (want the bars to be from highest to lowest, so sorted them in reverse)\n",
    "not_rec_core = list(not_rec_core.items())\n",
    "not_rec_core = sorted(not_rec_core, key = lambda x:x[1], reverse = True)"
   ]
  },
  {
   "cell_type": "code",
   "execution_count": 10,
   "id": "0e6a70b4-28f8-4625-bd17-8b28c57860df",
   "metadata": {},
   "outputs": [],
   "source": [
    "## Graph 1\n",
    "\n",
    "# Prepares data used for both Graph 1 and Graph 2 (Unrecommended Core)\n",
    "labels = [x[0] for x in not_rec_core if x[1]]\n",
    "values = [x[1] for x in not_rec_core if x[1]]\n",
    "\n",
    "if CHOICE[1] in ['(DS/CS/MAST)']:\n",
    "\n",
    "    plt.bar(x = labels, height = values, color = ['#B3CDE3' for i in range(10)]);\n",
    "    plt.title(f'Unrecommended Core Subjects {CHOICE[1]}');\n",
    "    plt.xlabel('Subject Code')\n",
    "    plt.ylabel('Number of votes')\n",
    "    plt.xticks(range(len(labels)), labels, rotation = 60);\n",
    "    plt.yticks(range(max(values)+1), range(max(values)+1));\n",
    "    plt.subplots_adjust(bottom=0.5)\n",
    "    plt.savefig(f'Unrecommended Core {CHOICE[2]} - bar.png')"
   ]
  },
  {
   "cell_type": "code",
   "execution_count": 11,
   "id": "f33dbd5e-c4d1-4822-b9a8-4fa922273498",
   "metadata": {},
   "outputs": [
    {
     "data": {
      "image/png": "[encoded data removed]",
      "text/plain": [
       "<Figure size 432x288 with 1 Axes>"
      ]
     },
     "metadata": {},
     "output_type": "display_data"
    }
   ],
   "source": [
    "## Graph 2\n",
    "\n",
    "if CHOICE[1] in ['(DS/CS/MAST)', '(Female)', '(DS)', '(CS)']:\n",
    "    plt.title(f'Unrecommended Core Subjects {CHOICE[1]}');\n",
    "    plt.pie(values, labels = labels, autopct='%1.1f%%', colors = ['#FBB4AE' if i%4 == 0 else '#B3CDE3' if i%4 == 1 else '#CCEBC5' if i%4 == 2 else '#FED9A6' for i in range(len(values))]);\n",
    "    plt.savefig(f'Unrecommended Core {CHOICE[2]} - pie.png')"
   ]
  },
  {
   "cell_type": "code",
   "execution_count": 12,
   "id": "2829498c-8778-4d54-b551-b3ac71e949a4",
   "metadata": {},
   "outputs": [],
   "source": [
    "# Prepares data for graph 3 and graph 4\n",
    "not_rec_noncore = list(not_rec_noncore.items())\n",
    "not_rec_noncore = sorted(not_rec_noncore, key = lambda x:x[1], reverse = True)"
   ]
  },
  {
   "cell_type": "code",
   "execution_count": 13,
   "id": "2d86ee3e-9c1f-4dd9-b9d3-56f7ac459989",
   "metadata": {},
   "outputs": [],
   "source": [
    "## Graph 3\n",
    "\n",
    "# Prepares data used for both Graph 3 and Graph 4 (Unrecommended Noncore)\n",
    "labels = [x[0] for x in not_rec_noncore if x[1]]\n",
    "values = [x[1] for x in not_rec_noncore if x[1]]\n",
    "\n",
    "if CHOICE[1] in ['(DS/CS/MAST)']:\n",
    "\n",
    "    plt.bar(x = labels, height = values, color = ['#B3CDE3' for i in range(10)]);\n",
    "    plt.xticks(range(len(labels)), labels, rotation = 60);\n",
    "    plt.yticks(range(max(values)+1), range(max(values)+1));\n",
    "    plt.title(f'Unrecommended Elective Subjects {CHOICE[1]}');\n",
    "    plt.xlabel('Subject Code')\n",
    "    plt.ylabel('Number of votes')\n",
    "    plt.subplots_adjust(bottom=0.5)\n",
    "    plt.savefig(f'Unrecommended Elective {CHOICE[2]} - bar.png')"
   ]
  },
  {
   "cell_type": "code",
   "execution_count": 14,
   "id": "22146f96-fc99-4ab6-b330-e11038f8a746",
   "metadata": {},
   "outputs": [],
   "source": [
    "## Graph 4\n",
    "\n",
    "if CHOICE[1] in ['(DS/CS/MAST)', '(CS)']:\n",
    "    plt.title(f'Unrecommended Elective Subjects {CHOICE[1]}');\n",
    "    plt.pie(values, labels = labels, autopct='%1.1f%%', colors = ['#FBB4AE' if i%4 == 0 else '#B3CDE3' if i%4 == 1 else '#CCEBC5' if i%4 == 2 else '#FED9A6' for i in range(len(values))]);\n",
    "    plt.savefig(f'Unrecommended Elective {CHOICE[2]} - pie.png')"
   ]
  },
  {
   "cell_type": "code",
   "execution_count": 15,
   "id": "31e98612-0fa9-46f0-ad70-de1c7fc2df88",
   "metadata": {},
   "outputs": [],
   "source": [
    "# Create combined dataset for graph 5 and 6\n",
    "combined = {}\n",
    "for key, value in not_rec_core:\n",
    "    combined[key] = value\n",
    "for key, value in not_rec_noncore:\n",
    "    combined[key] = value\n",
    "\n",
    "combined = list(combined.items())\n",
    "combined = sorted(combined, key = lambda x:x[1], reverse = True)"
   ]
  },
  {
   "cell_type": "code",
   "execution_count": 17,
   "id": "dff2de9d-54b7-439d-9c23-a8145f46ffb5",
   "metadata": {},
   "outputs": [],
   "source": [
    "# Prepare data for graph 5 and 6\n",
    "\n",
    "labels = [x[0] for x in combined if x[1]]\n",
    "values = [x[1] for x in combined if x[1]]\n",
    "\n",
    "## Graph 5\n",
    "if CHOICE[1] in ['(DS/CS/MAST)']:\n",
    "\n",
    "    plt.bar(x = labels, height = values, color = ['#B3CDE3','#B3CDE3','#B3CDE3', '#FBB4AE','#B3CDE3','#FBB4AE',\n",
    "                                                   '#B3CDE3','#B3CDE3','#B3CDE3','#B3CDE3','#B3CDE3','#B3CDE3',\n",
    "                                                  '#FBB4AE','#FBB4AE','#FBB4AE','#FBB4AE','#FBB4AE','#FBB4AE',\n",
    "                                                   '#FBB4AE','#FBB4AE']);\n",
    "    plt.xticks(range(len(labels)), labels, rotation = 90);\n",
    "    plt.yticks(range(max(values)+1), range(max(values)+1));\n",
    "    plt.title(f'Unrecommended BSci Subjects {CHOICE[1]}');\n",
    "    plt.xlabel('Subject Code')\n",
    "    plt.ylabel('Number of votes')\n",
    "    plt.subplots_adjust(bottom=0.5)\n",
    "    # 把noncore变红色\n",
    "    plt.savefig(f'Unrecommended BSci Subjects {CHOICE[2]} - bar.png')"
   ]
  },
  {
   "cell_type": "code",
   "execution_count": 18,
   "id": "c591d6a6-ae5c-482c-9169-8c26a3bd797a",
   "metadata": {},
   "outputs": [
    {
     "data": {
      "image/png": "[encoded data removed]",
      "text/plain": [
       "<Figure size 432x288 with 1 Axes>"
      ]
     },
     "metadata": {},
     "output_type": "display_data"
    }
   ],
   "source": [
    "## Graph 6\n",
    "if CHOICE[1] in ['(DS/CS/MAST)', '(Male)', '(Female)', '(DS)', '(CS)']:\n",
    "    plt.title(f'Unrecommended BSci Subjects {CHOICE[1]}');\n",
    "    plt.pie(values, labels = labels, autopct='%1.0f%%', colors = ['#FBB4AE' if i%4 == 0 else '#B3CDE3' if i%4 == 1 else '#CCEBC5' if i%4 == 2 else '#FED9A6' for i in range(len(values))]);\n",
    "    plt.savefig(f'Unrecommended BSci Subjects {CHOICE[2]} - pie.png')"
   ]
  },
  {
   "cell_type": "code",
   "execution_count": 19,
   "id": "8b620a27-2212-46eb-b23a-8744fbdf3a0f",
   "metadata": {},
   "outputs": [],
   "source": [
    "# Prepare Data for Graph 7\n",
    "labels = [x[0] for x in not_rec_core if x[1]]\n",
    "not_rec = [x[1] for x in not_rec_core if x[1]]"
   ]
  },
  {
   "cell_type": "code",
   "execution_count": 20,
   "id": "fd40512c-6b77-4640-99e1-98aacb738abc",
   "metadata": {},
   "outputs": [],
   "source": [
    "rec = [rec_compare[x] for x in labels]"
   ]
  },
  {
   "cell_type": "code",
   "execution_count": 21,
   "id": "3cd6045a-db30-45cb-a46d-cb7c84cebd75",
   "metadata": {},
   "outputs": [
    {
     "data": {
      "image/png": "[encoded data removed]",
      "text/plain": [
       "<Figure size 432x288 with 1 Axes>"
      ]
     },
     "metadata": {
      "needs_background": "light"
     },
     "output_type": "display_data"
    }
   ],
   "source": [
    "## Graph 7\n",
    "x = np.arange(len(labels))  # the label locations\n",
    "width = 0.35  # the width of the bars\n",
    "\n",
    "fig, ax = plt.subplots()\n",
    "rects1 = ax.bar(x - width/2, rec, width, label='Recommended', color = ['#B3CDE3' for i in range(10)])\n",
    "rects2 = ax.bar(x + width/2, not_rec, width, label='Not Recommended', color = ['#CCEBC5' for i in range(10)])\n",
    "\n",
    "# Add some text for labels, title and custom x-axis tick labels, etc.\n",
    "ax.set_ylabel('Votes')\n",
    "ax.set_xlabel('Subjects')\n",
    "ax.set_title('')\n",
    "plt.xticks(x, labels, rotation = 60);\n",
    "plt.yticks(range(max([max(rec), max(not_rec)])+2))\n",
    "ax.legend()\n",
    "\n",
    "ax.bar_label(rects1, padding=3)\n",
    "ax.bar_label(rects2, padding=3)\n",
    "plt.title(f'Core - recommended vs unrecommended {CHOICE[1]}')\n",
    "plt.subplots_adjust(bottom=0.15)\n",
    "fig.tight_layout()\n",
    "\n",
    "plt.savefig(f'{CHOICE[2]} - recommend vs unrecommend')"
   ]
  },
  {
   "cell_type": "code",
   "execution_count": null,
   "id": "c3a3a040-f2f2-480c-8914-c16300becf93",
   "metadata": {},
   "outputs": [],
   "source": []
  }
 ],
 "metadata": {
  "kernelspec": {
   "display_name": "Python 3 (ipykernel)",
   "language": "python",
   "name": "python3"
  },
  "language_info": {
   "codemirror_mode": {
    "name": "ipython",
    "version": 3
   },
   "file_extension": ".py",
   "mimetype": "text/x-python",
   "name": "python",
   "nbconvert_exporter": "python",
   "pygments_lexer": "ipython3",
   "version": "3.9.7"
  }
 },
 "nbformat": 4,
 "nbformat_minor": 5
}
